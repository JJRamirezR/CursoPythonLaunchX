{
 "cells": [
  {
   "cell_type": "markdown",
   "metadata": {},
   "source": [
    "## Ejercicio 1"
   ]
  },
  {
   "cell_type": "code",
   "execution_count": 1,
   "metadata": {},
   "outputs": [
    {
     "name": "stdout",
     "output_type": "stream",
     "text": [
      "Advertencia, asteroide acercándose\n"
     ]
    }
   ],
   "source": [
    "vel_asteroide = 49\n",
    "vel_advertencia = 25 \n",
    "\n",
    "if (vel_asteroide > vel_advertencia):\n",
    "    print('Advertencia, asteroide acercándose')"
   ]
  },
  {
   "cell_type": "markdown",
   "metadata": {},
   "source": [
    "## Ejercicio 2"
   ]
  },
  {
   "cell_type": "code",
   "execution_count": 4,
   "metadata": {},
   "outputs": [
    {
     "name": "stdout",
     "output_type": "stream",
     "text": [
      "Advertencia, asteroide acercándose\n"
     ]
    }
   ],
   "source": [
    "vel_asteroide = 28\n",
    "\n",
    "if (vel_asteroide > 25):\n",
    "    print('Advertencia, asteroide acercándose')\n",
    "elif (vel_asteroide >= 20):\n",
    "    print('Es posible ver el asteroide en el cielo')\n",
    "else:\n",
    "    print('Sin riesgo')"
   ]
  },
  {
   "cell_type": "markdown",
   "metadata": {},
   "source": [
    "## Ejercicio 3"
   ]
  },
  {
   "cell_type": "code",
   "execution_count": 12,
   "metadata": {},
   "outputs": [
    {
     "name": "stdout",
     "output_type": "stream",
     "text": [
      "Sin riesgo\n"
     ]
    }
   ],
   "source": [
    "vel_asteroide = 19\n",
    "tamano_asteroide = 40\n",
    "\n",
    "if (vel_asteroide > 25 and tamano_asteroide > 24):\n",
    "    print('Advertencia, asteroide acercándose')\n",
    "elif (vel_asteroide >= 20):\n",
    "    print('Es posible ver el asteroide en el cielo')\n",
    "elif (tamano_asteroide < 25):\n",
    "    print('No es posible ver el asteroide en el cielo')\n",
    "else:\n",
    "    print('Sin riesgo')"
   ]
  },
  {
   "cell_type": "code",
   "execution_count": null,
   "metadata": {},
   "outputs": [],
   "source": []
  }
 ],
 "metadata": {
  "kernelspec": {
   "display_name": "Python 3",
   "language": "python",
   "name": "python3"
  },
  "language_info": {
   "codemirror_mode": {
    "name": "ipython",
    "version": 3
   },
   "file_extension": ".py",
   "mimetype": "text/x-python",
   "name": "python",
   "nbconvert_exporter": "python",
   "pygments_lexer": "ipython3",
   "version": "3.8.3"
  }
 },
 "nbformat": 4,
 "nbformat_minor": 4
}
