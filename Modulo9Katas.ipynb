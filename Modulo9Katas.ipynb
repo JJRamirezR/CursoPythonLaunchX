{
 "cells": [
  {
   "cell_type": "markdown",
   "metadata": {},
   "source": [
    "# Ejercicio 1: Trabajar con argumentos en funciones"
   ]
  },
  {
   "cell_type": "code",
   "execution_count": 7,
   "metadata": {},
   "outputs": [],
   "source": [
    "def informe_combustible (tanque1, tanque2, tanque3):\n",
    "    avg_tanques = (tanque1 + tanque2 + tanque3)/3\n",
    "    return f\"\"\"Reporte de combustible:\n",
    "    Promedio: {avg_tanques}%\n",
    "    Tanque 1: {tanque1}%\n",
    "    Tanque 2: {tanque2}%\n",
    "    Tanque 3: {tanque3}%\n",
    "    \"\"\""
   ]
  },
  {
   "cell_type": "code",
   "execution_count": 8,
   "metadata": {},
   "outputs": [
    {
     "name": "stdout",
     "output_type": "stream",
     "text": [
      "Reporte de combustible:\n",
      "    Promedio: 46.666666666666664%\n",
      "    Tanque 1: 70%\n",
      "    Tanque 2: 50%\n",
      "    Tanque 3: 20%\n",
      "    \n"
     ]
    }
   ],
   "source": [
    "print(informe_combustible(70,50,20))"
   ]
  },
  {
   "cell_type": "code",
   "execution_count": 9,
   "metadata": {},
   "outputs": [],
   "source": [
    "def promedio (tanque1, tanque2, tanque3):\n",
    "    avg = (tanque1 + tanque2 + tanque3)/3\n",
    "    return avg"
   ]
  },
  {
   "cell_type": "code",
   "execution_count": 11,
   "metadata": {},
   "outputs": [],
   "source": [
    "def informe_combustible (tanque1, tanque2, tanque3):\n",
    "    return f\"\"\"Reporte de combustible:\n",
    "    Promedio: {promedio (tanque1, tanque2, tanque3)}%\n",
    "    Tanque 1: {tanque1}%\n",
    "    Tanque 2: {tanque2}%\n",
    "    Tanque 3: {tanque3}%\n",
    "    \"\"\""
   ]
  },
  {
   "cell_type": "code",
   "execution_count": 12,
   "metadata": {},
   "outputs": [
    {
     "name": "stdout",
     "output_type": "stream",
     "text": [
      "Reporte de combustible:\n",
      "    Promedio: 46.666666666666664%\n",
      "    Tanque 1: 70%\n",
      "    Tanque 2: 50%\n",
      "    Tanque 3: 20%\n",
      "    \n"
     ]
    }
   ],
   "source": [
    "print(informe_combustible(70,50,20))"
   ]
  },
  {
   "cell_type": "markdown",
   "metadata": {},
   "source": [
    "# Ejercicio 2: Trabajo con argumentos de palabra clave"
   ]
  },
  {
   "cell_type": "code",
   "execution_count": 17,
   "metadata": {},
   "outputs": [],
   "source": [
    "def informe_cohete (horaPre, tiempoVuelo, destino, tanqueExt, tanqueInt):\n",
    "    return f\"\"\"Destino {destino}\n",
    "Tiempo toal de viaje {horaPre + tiempoVuelo} minutos\n",
    "Combustible total = {tanqueExt + tanqueInt} lts\n",
    "\"\"\""
   ]
  },
  {
   "cell_type": "code",
   "execution_count": 18,
   "metadata": {},
   "outputs": [
    {
     "name": "stdout",
     "output_type": "stream",
     "text": [
      "Destino Luna\n",
      "Tiempo toal de viaje 123 minutos\n",
      "Combustible total = 157 lts\n",
      "\n"
     ]
    }
   ],
   "source": [
    "print(informe_cohete (45,78,'Luna',67,90))"
   ]
  },
  {
   "cell_type": "code",
   "execution_count": 19,
   "metadata": {},
   "outputs": [],
   "source": [
    "def informe_cohete(destino, *tiempo_min, **tanques):\n",
    "    return f\"\"\"Destino {destino}\n",
    "Tiempo toal de viaje {sum(tiempo_min)} minutos\n",
    "Combustible total = {sum(tanques.values())} lts\n",
    "\"\"\"  "
   ]
  },
  {
   "cell_type": "code",
   "execution_count": 20,
   "metadata": {},
   "outputs": [
    {
     "name": "stdout",
     "output_type": "stream",
     "text": [
      "Destino Luna\n",
      "Tiempo toal de viaje 123 minutos\n",
      "Combustible total = 157 lts\n",
      "\n"
     ]
    }
   ],
   "source": [
    "print(informe_cohete ('Luna',45,78, Interno = 67, Externo = 90))"
   ]
  },
  {
   "cell_type": "code",
   "execution_count": 26,
   "metadata": {},
   "outputs": [],
   "source": [
    "def informe_cohete(destino, *tiempo_min, **tanques):\n",
    "    informe = f\"\"\"Destino {destino}\n",
    "    Tiempo toal de viaje {sum(tiempo_min)} minutos\n",
    "    Combustible total = {sum(tanques.values())} lts\n",
    "    \"\"\" \n",
    "    for tanque, lts in tanques.items():\n",
    "        informe += f\"Tanque: {tanque}  --> {lts} lts \\n\"\n",
    "    return informe"
   ]
  },
  {
   "cell_type": "code",
   "execution_count": 27,
   "metadata": {},
   "outputs": [
    {
     "name": "stdout",
     "output_type": "stream",
     "text": [
      "Destino Luna\n",
      "    Tiempo toal de viaje 123 minutos\n",
      "    Combustible total = 157 lts\n",
      "    Tanque: Interno  --> 67 lts \n",
      "Tanque: Externo  --> 90 lts \n",
      "\n"
     ]
    }
   ],
   "source": [
    "print(informe_cohete ('Luna',45,78, Interno = 67, Externo = 90))"
   ]
  }
 ],
 "metadata": {
  "kernelspec": {
   "display_name": "Python 3",
   "language": "python",
   "name": "python3"
  },
  "language_info": {
   "codemirror_mode": {
    "name": "ipython",
    "version": 3
   },
   "file_extension": ".py",
   "mimetype": "text/x-python",
   "name": "python",
   "nbconvert_exporter": "python",
   "pygments_lexer": "ipython3",
   "version": "3.8.3"
  }
 },
 "nbformat": 4,
 "nbformat_minor": 4
}
