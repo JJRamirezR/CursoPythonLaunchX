{
 "cells": [
  {
   "cell_type": "markdown",
   "metadata": {},
   "source": [
    "# Ejercicio 1 Creación de un bucle 'while'"
   ]
  },
  {
   "cell_type": "code",
   "execution_count": 4,
   "metadata": {},
   "outputs": [],
   "source": [
    "planetas = []\n",
    "prompt =\"Ingresa el nombre de los planetas, escribe done para salir\"\n",
    "planeta =''"
   ]
  },
  {
   "cell_type": "code",
   "execution_count": 5,
   "metadata": {},
   "outputs": [
    {
     "name": "stdin",
     "output_type": "stream",
     "text": [
      "Ingresa el nombre de los planetas, escribe done para salir mercurio\n",
      "Ingresa el nombre de los planetas, escribe done para salir venus\n",
      "Ingresa el nombre de los planetas, escribe done para salir tierra\n",
      "Ingresa el nombre de los planetas, escribe done para salir marte\n",
      "Ingresa el nombre de los planetas, escribe done para salir jupiter\n",
      "Ingresa el nombre de los planetas, escribe done para salir saturno\n",
      "Ingresa el nombre de los planetas, escribe done para salir urano\n",
      "Ingresa el nombre de los planetas, escribe done para salir neptuno\n",
      "Ingresa el nombre de los planetas, escribe done para salir done\n"
     ]
    }
   ],
   "source": [
    "while planeta != 'done':\n",
    "    planeta = input (prompt)\n",
    "    if planeta != 'done':\n",
    "        planetas.append(planeta.title())"
   ]
  },
  {
   "cell_type": "markdown",
   "metadata": {},
   "source": [
    "# Ejercicio 2. Creación de un ciclo \"for\""
   ]
  },
  {
   "cell_type": "code",
   "execution_count": 9,
   "metadata": {},
   "outputs": [
    {
     "name": "stdout",
     "output_type": "stream",
     "text": [
      "Mercurio\n",
      "Venus\n",
      "Tierra\n",
      "Marte\n",
      "Jupiter\n",
      "Saturno\n",
      "Urano\n",
      "Neptuno\n"
     ]
    }
   ],
   "source": [
    "for planeta in planetas:\n",
    "    print(planeta)"
   ]
  },
  {
   "cell_type": "code",
   "execution_count": null,
   "metadata": {},
   "outputs": [],
   "source": []
  }
 ],
 "metadata": {
  "kernelspec": {
   "display_name": "Python 3",
   "language": "python",
   "name": "python3"
  },
  "language_info": {
   "codemirror_mode": {
    "name": "ipython",
    "version": 3
   },
   "file_extension": ".py",
   "mimetype": "text/x-python",
   "name": "python",
   "nbconvert_exporter": "python",
   "pygments_lexer": "ipython3",
   "version": "3.8.3"
  }
 },
 "nbformat": 4,
 "nbformat_minor": 4
}
